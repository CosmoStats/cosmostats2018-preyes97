{
 "cells": [
  {
   "cell_type": "markdown",
   "metadata": {},
   "source": [
    "Minimización de la distribución de chi cuadrado para obtener el método de mínimos cuadrados"
   ]
  },
  {
   "cell_type": "markdown",
   "metadata": {},
   "source": [
    "La distribucion chi cuadrado es:\n",
    "\\begin{equation}\n",
    "\\chi^{2} = \\Sigma_{i} \\frac{(y_i - y(x_i,\\theta))^2}{\\sigma_{yi}^{2}}\n",
    "\\end{equation}\n",
    "\n",
    "Con la hipótesis de que es una recta: \n",
    "\\begin{equation}\n",
    "\\chi^{2} = \\Sigma_{i} \\frac{(y_i - (ax_{i} + b))^2}{\\sigma_{y_i}^{2}}\n",
    "\\end{equation}\n",
    "\n",
    "Entonces se minimiza con respecto a las variables a y b para obtener la expresión de mínimos cuadrados. \n",
    "\n",
    "Minimizando con respecto a b:\n",
    "\\begin{equation}\n",
    "\\frac{\\partial \\chi^2}{\\partial  b} = \\frac{\\partial}{\\partial b} \\Sigma_{i} \\frac{(y_i - (ax_{i} + b))^2}{\\sigma_{y_i}^{2}}\n",
    "\\end{equation}\n",
    "\n",
    "\\begin{equation}\n",
    "\\frac{2(y_i - ax_{i}-b)}{\\sigma_{y_i}^{2}} = 0\n",
    "\\end{equation}\n",
    "\n",
    "\\begin{equation}\n",
    "\\Sigma_{i}\\frac{(y_{i} - ax_{i}-b)}{\\sigma_{y_i}^{2}} = 0\n",
    "\\end{equation}\n",
    "\n",
    "\\begin{equation}\n",
    "\\Sigma_{i}\\frac{y_i}{\\sigma_{y_i}^{2}} - \\Sigma_{i}\\frac{ax_i}{\\sigma_{y_i}^{2}} - \\Sigma_{i} \\frac{b}{\\sigma_{y_i}^{2}} = 0\n",
    "\\end{equation}\n",
    "\n",
    "\\begin{equation}\n",
    "\\Sigma_{i}\\frac{b}{\\sigma_{y_i}^{2}} = \\Sigma_{i}\\frac{y_i}{\\sigma_{y_i}^{2}} - \\Sigma_{i}\\frac{ax_i}{\\sigma_{y_i}^{2}}\n",
    "\\end{equation}\n",
    "\n",
    "\\begin{equation}\n",
    "b = \\Sigma_{i} y_{i} - a \\Sigma_{i} x_{i} \n",
    "\\end{equation}\n",
    "\n",
    "Ahora para obtener a:\n",
    "\\begin{equation}\n",
    "\\frac{\\partial \\chi^{2}}{\\partial a} = \\frac{\\partial}{\\partial a}\\Sigma_{i} \\frac{(y_i - (ax_{i} + b))^2}{\\sigma_{y_i}^{2}}\n",
    "\\end{equation}\n",
    "\n",
    "\\begin{equation}\n",
    "\\Sigma_{i} \\frac{(y_{i} - ax_{i}-b)(x_i)}{\\sigma_{y_i}^{2}} = 0\n",
    "\\end{equation}\n",
    "\n",
    "\\begin{equation}\n",
    "\\Sigma_{i} \\frac{(y_i x_i - ax_{i}^{2} - bx_{i})}{\\sigma_{y_i}^{2}} = 0\n",
    "\\end{equation}\n",
    "\n",
    "\\begin{equation}\n",
    "\\Sigma_{i} \\frac{y_{i} x_{i}}{\\sigma_{y_i}^{2}} - \\Sigma_{i}\\frac{ax_{i}^{2}}{\\sigma_{y_i}^{2}} - \\Sigma_{i} \\frac{bx_{i}}{\\sigma_{y_i}^{2}} = 0\n",
    "\\end{equation}\n",
    "\n",
    "\\begin{equation}\n",
    "\\Sigma_{i} \\frac{ax_{i}^{2}}{\\sigma_{y_i}^{2}} = \\Sigma_{i} \\frac{y_{i} x_{i}}{\\sigma_{y_i}^{2}} - \\Sigma_{i} \\frac{bx_{i}}{\\sigma_{y_i}^{2}}\n",
    "\\end{equation}\n",
    "\n",
    "\\begin{equation}\n",
    "a = \\frac{\\Sigma_{i} (x_{i} y_{i}) - \\Sigma_{i}b x_{i}}{\\Sigma_{i} x_{i}^{2}}\n",
    "\\end{equation}\n",
    "\n",
    "Sustituyendo b en a: \n",
    "\n",
    "\\begin{equation}\n",
    "a = \\frac{\\Sigma_{i} (x_{i} y_{i}) - (\\Sigma_{i} y_{i} - \\Sigma_{i} ax_{i})\\Sigma_{i}x_{i}}{\\Sigma_{i} x_{i}^{2}}\n",
    "\\end{equation}\n",
    "\n",
    "Separando factores comunes se tiene: \n",
    "\\begin{equation}\n",
    "a = \\frac{\\Sigma_{i}(x_{i}y_{i}) - (\\Sigma_{i} y_{i} \\Sigma_{i} x_{i}}{\\Sigma_{i} x_{i}^{2} - (\\Sigma_{i} x_{i})^2}\n",
    "\\end{equation}"
   ]
  },
  {
   "cell_type": "code",
   "execution_count": null,
   "metadata": {},
   "outputs": [],
   "source": []
  }
 ],
 "metadata": {
  "kernelspec": {
   "display_name": "Python 2",
   "language": "python",
   "name": "python2"
  },
  "language_info": {
   "codemirror_mode": {
    "name": "ipython",
    "version": 2
   },
   "file_extension": ".py",
   "mimetype": "text/x-python",
   "name": "python",
   "nbconvert_exporter": "python",
   "pygments_lexer": "ipython2",
   "version": "2.7.15"
  }
 },
 "nbformat": 4,
 "nbformat_minor": 2
}
