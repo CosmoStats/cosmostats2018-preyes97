{
 "cells": [
  {
   "cell_type": "markdown",
   "metadata": {},
   "source": [
    "Método de mínimos cuadrados\n",
    "Programa que calcula el coeficiente y la ordenada al origen de una recta"
   ]
  },
  {
   "cell_type": "code",
   "execution_count": 14,
   "metadata": {},
   "outputs": [
    {
     "name": "stdout",
     "output_type": "stream",
     "text": [
      "Introduzca sus datos en x. Por lo menos 10\n",
      "01\n",
      "12\n",
      "23\n",
      "34\n",
      "45\n",
      "56\n",
      "67\n",
      "78\n",
      "89\n",
      "910\n",
      "Ahora los valores en y\n",
      "01\n",
      "12\n",
      "23\n",
      "34\n",
      "45\n",
      "56\n",
      "67\n",
      "78\n",
      "89\n",
      "910\n",
      "Sus datos son:\n",
      "\n",
      "En x:\n",
      "[1, 2, 3, 4, 5, 6, 7, 8, 9, 10]\n",
      "En y:\n",
      "[1, 2, 3, 4, 5, 6, 7, 8, 9, 10]\n",
      "-1\n",
      "10\n",
      "('La ecuacion es y = ', -1, '+', 10)\n"
     ]
    },
    {
     "data": {
      "text/plain": [
       "[<matplotlib.lines.Line2D at 0xabdd6eac>]"
      ]
     },
     "execution_count": 14,
     "metadata": {},
     "output_type": "execute_result"
    },
    {
     "data": {
      "image/png": "[encoded data removed]",
      "text/plain": [
       "<Figure size 432x288 with 1 Axes>"
      ]
     },
     "metadata": {},
     "output_type": "display_data"
    }
   ],
   "source": [
    "#Se pide la entrada de datos\n",
    "X=[0,0,0,0,0,0,0,0,0,0]\n",
    "Y=[0,0,0,0,0,0,0,0,0,0]\n",
    "x2=[0,0,0,0,0,0,0,0,0,0]\n",
    "xy=[0,0,0,0,0,0,0,0,0,0]\n",
    "print(\"Introduzca sus datos en x. Por lo menos 10\")\n",
    "n=10\n",
    "for i in range (n):\n",
    "    X[i] = int( input (format(i)))\n",
    "print(\"Ahora los valores en y\")\n",
    "for i in range(n):\n",
    "    Y[i] = int (input (format(i)))\n",
    "\n",
    "print(\"Sus datos son:\\n\")\n",
    "print(\"En x:\")\n",
    "print(X)\n",
    "print(\"En y:\")\n",
    "print(Y)\n",
    "\n",
    "#Suma de los datos en x y en y\n",
    "sx=sum(X)\n",
    "sy=sum(Y)\n",
    "#Obtención de las sumatorias de x*y y de x al cuadarado\n",
    "for i in range (n):\n",
    "    x2[i] = X[i]*X[i]\n",
    "    xy[i] = X[i]*Y[i]\n",
    "\n",
    "sx2=sum(x2)\n",
    "sxy=sum(xy)\n",
    "#Promedio de los valores en x y y\n",
    "xm=sx/n\n",
    "ym=sy/n\n",
    "\n",
    "a = (n*sxy - sx*sy)/(n*sx2 - sx2*sx2)    \n",
    "b = ym - (a*xm) \n",
    "\n",
    "\n",
    "\n",
    "print (a)\n",
    "print (b) \n",
    "print(\"La ecuacion es y = \" ,  a, \"+\", b )\n",
    "\n",
    "import matplotlib.pyplot as plt \n",
    "from pylab import *\n",
    "x=linspace(0,5,10)\n",
    "y = a*x + b\n",
    "%matplotlib inline\n",
    "plt.plot(X,Y, 'ro')\n",
    "plt.plot(y)\n"
   ]
  },
  {
   "cell_type": "code",
   "execution_count": null,
   "metadata": {},
   "outputs": [],
   "source": []
  }
 ],
 "metadata": {
  "kernelspec": {
   "display_name": "Python 2",
   "language": "python",
   "name": "python2"
  },
  "language_info": {
   "codemirror_mode": {
    "name": "ipython",
    "version": 2
   },
   "file_extension": ".py",
   "mimetype": "text/x-python",
   "name": "python",
   "nbconvert_exporter": "python",
   "pygments_lexer": "ipython2",
   "version": "2.7.15"
  }
 },
 "nbformat": 4,
 "nbformat_minor": 2
}
