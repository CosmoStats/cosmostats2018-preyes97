{
 "cells": [
  {
   "cell_type": "markdown",
   "metadata": {},
   "source": [
    "# Este es mi primer notebook del curso#"
   ]
  },
  {
   "cell_type": "markdown",
   "metadata": {},
   "source": [
    "# Mostrare los conocimientos que tengo de Python"
   ]
  },
  {
   "cell_type": "code",
   "execution_count": 2,
   "metadata": {},
   "outputs": [
    {
     "name": "stdout",
     "output_type": "stream",
     "text": [
      "(2.0, 1.0, 3.0)\n",
      "1.73205080757\n",
      "3.0\n"
     ]
    }
   ],
   "source": [
    "import math as m \n",
    "a=2.0\n",
    "b=1.0\n",
    "c=a+b\n",
    "d=c**2\n",
    "e=m.sqrt(c)\n",
    "f = d/c\n",
    "print(a,b,c)\n",
    "print(e)\n",
    "print(f)\n"
   ]
  },
  {
   "cell_type": "code",
   "execution_count": 3,
   "metadata": {},
   "outputs": [
    {
     "name": "stdout",
     "output_type": "stream",
     "text": [
      "1.0\n"
     ]
    }
   ],
   "source": [
    "import sys, math\n",
    "a1 = math.pi/2.0\n",
    "print(math.sin(a1))"
   ]
  },
  {
   "cell_type": "code",
   "execution_count": 5,
   "metadata": {},
   "outputs": [
    {
     "name": "stdout",
     "output_type": "stream",
     "text": [
      "Primera linea\n",
      "\n",
      "\n",
      "\n",
      "Segunda linea\n"
     ]
    }
   ],
   "source": [
    "def nuevalinea():\n",
    "    print\n",
    "\n",
    "def treslineas():\n",
    "    nuevalinea()\n",
    "    nuevalinea()\n",
    "    nuevalinea()\n",
    "\n",
    "print(\"Primera linea\")\n",
    "treslineas()\n",
    "print(\"Segunda linea\")"
   ]
  },
  {
   "cell_type": "code",
   "execution_count": 6,
   "metadata": {},
   "outputs": [
    {
     "name": "stdout",
     "output_type": "stream",
     "text": [
      "0\n",
      "1\n",
      "2\n",
      "3\n",
      "4\n",
      "5\n",
      "6\n",
      "7\n",
      "8\n",
      "9\n",
      "10\n",
      "11\n",
      "12\n",
      "13\n",
      "14\n",
      "15\n",
      "16\n",
      "17\n",
      "18\n",
      "19\n",
      "20\n",
      "21\n",
      "22\n",
      "23\n",
      "24\n",
      "25\n",
      "26\n",
      "27\n",
      "28\n",
      "29\n",
      "30\n",
      "31\n",
      "32\n",
      "33\n",
      "34\n",
      "35\n",
      "36\n",
      "37\n",
      "38\n",
      "39\n",
      "40\n",
      "41\n",
      "42\n",
      "43\n",
      "44\n",
      "45\n",
      "46\n",
      "47\n",
      "48\n",
      "49\n",
      "50\n",
      "51\n",
      "52\n",
      "53\n",
      "54\n",
      "55\n",
      "56\n",
      "57\n",
      "58\n",
      "59\n",
      "60\n",
      "61\n",
      "62\n",
      "63\n",
      "64\n",
      "65\n",
      "66\n",
      "67\n",
      "68\n",
      "69\n",
      "70\n",
      "71\n",
      "72\n",
      "73\n",
      "74\n",
      "75\n",
      "76\n",
      "77\n",
      "78\n",
      "79\n",
      "80\n",
      "81\n",
      "82\n",
      "83\n",
      "84\n",
      "85\n",
      "86\n",
      "87\n",
      "88\n",
      "89\n",
      "90\n",
      "91\n",
      "92\n",
      "93\n",
      "94\n",
      "95\n",
      "96\n",
      "97\n",
      "98\n",
      "99\n"
     ]
    }
   ],
   "source": [
    "for i in range (100):\n",
    "    print(i)"
   ]
  },
  {
   "cell_type": "code",
   "execution_count": 10,
   "metadata": {},
   "outputs": [
    {
     "name": "stdout",
     "output_type": "stream",
     "text": [
      "0.0289347621183\n",
      "Esto es divertido\n"
     ]
    }
   ],
   "source": [
    "import numpy as np\n",
    "\n",
    "a2 = np.random.random()\n",
    "\n",
    "if a2 < 0.5:\n",
    "    print(a2)\n",
    "    print(\"Esto es divertido\")\n",
    "else:\n",
    "    print(a)\n",
    "    print(\"Esta bien, supongo\")\n"
   ]
  },
  {
   "cell_type": "code",
   "execution_count": 13,
   "metadata": {},
   "outputs": [
    {
     "name": "stdout",
     "output_type": "stream",
     "text": [
      "Hola ¿Que tal?\n",
      "Pi en 5 digitos es: 3.1416\n",
      "La energia de la explosion de la supenova es    1.000000E+51 ergs.\n",
      "Soy muy repetitivo.\n",
      "Soy muy repetitivo.\n",
      "Soy muy repetitivo.\n",
      "Soy muy repetitivo.\n",
      "Soy muy repetitivo.\n"
     ]
    }
   ],
   "source": [
    "import sys,time,math\n",
    "\n",
    "astring = \"Hola\"\n",
    "bstring = \"¿Que tal?\"\n",
    "cstring = astring +\" \"+ bstring\n",
    "print (cstring)\n",
    "\n",
    "tstring = \"La fecha y hora actuales son %s\" % (time.ctime())\n",
    "\n",
    "dstring = \"Pi en 5 digitos es: %6.5g\" % (math.pi)\n",
    "print (dstring)\n",
    "\n",
    "eexp = 1.0e51\n",
    "estring = \"La energia de la explosion de la supenova es %15.6E ergs.\" % (eexp)\n",
    "print(estring)\n",
    "\n",
    "fstring = \"Soy muy repetitivo.\\n\"\n",
    "print (fstring*5)[:-1]\n",
    "\n",
    "\n",
    "\n"
   ]
  },
  {
   "cell_type": "code",
   "execution_count": 14,
   "metadata": {},
   "outputs": [
    {
     "name": "stdout",
     "output_type": "stream",
     "text": [
      "(-20, -4.0)\n",
      "(-15, 5.0)\n",
      "(-10, 14.0)\n",
      "(-5, 23.0)\n",
      "(0, 32.0)\n",
      "(5, 41.0)\n",
      "(10, 50.0)\n",
      "(15, 59.0)\n",
      "(20, 68.0)\n",
      "(25, 77.0)\n",
      "(30, 86.0)\n",
      "(35, 95.0)\n",
      "(40, 104.0)\n"
     ]
    }
   ],
   "source": [
    "gradosC = [-20, -15, -10, -5, 0, 5, 10, 15, 20, 25, 30, 35, 40]\n",
    "for C in gradosC:\n",
    "    F = (9.0/5)*C + 32\n",
    "    print(C,F)"
   ]
  },
  {
   "cell_type": "code",
   "execution_count": null,
   "metadata": {},
   "outputs": [],
   "source": [
    "import matplotlib.pyplot as plt\n"
   ]
  },
  {
   "cell_type": "code",
   "execution_count": null,
   "metadata": {},
   "outputs": [],
   "source": []
  }
 ],
 "metadata": {
  "kernelspec": {
   "display_name": "Python 2",
   "language": "python",
   "name": "python2"
  },
  "language_info": {
   "codemirror_mode": {
    "name": "ipython",
    "version": 2
   },
   "file_extension": ".py",
   "mimetype": "text/x-python",
   "name": "python",
   "nbconvert_exporter": "python",
   "pygments_lexer": "ipython2",
   "version": "2.7.15"
  }
 },
 "nbformat": 4,
 "nbformat_minor": 2
}
